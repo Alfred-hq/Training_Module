{
  "cells": [
    {
      "cell_type": "code",
      "execution_count": null,
      "metadata": {
        "colab": {
          "base_uri": "https://localhost:8080/"
        },
        "id": "SIkwntQKbxyg",
        "outputId": "bb28ce37-ef97-46b7-81f5-6b6c5ab9c0b7"
      },
      "outputs": [],
      "source": [
        "import numpy as np\n",
        "import pandas as pd\n",
        "import matplotlib.pyplot as plt\n",
        "import requests\n",
        "!pip install xlrd\n"
      ]
    },
    {
      "cell_type": "code",
      "execution_count": null,
      "metadata": {
        "id": "W9_zxgGZegmK"
      },
      "outputs": [],
      "source": [
        "import re\n",
        "\n",
        "def convert_google_sheet_url(url):\n",
        "    # Regular expression to match and capture the necessary part of the URL\n",
        "    pattern = r'https://docs\\.google\\.com/spreadsheets/d/([a-zA-Z0-9-_]+)(/edit#gid=(\\d+)|/edit.*)?'\n",
        "\n",
        "    # Replace function to construct the new URL for CSV export\n",
        "    # If gid is present in the URL, it includes it in the export URL, otherwise, it's omitted\n",
        "    replacement = lambda m: f'https://docs.google.com/spreadsheets/d/{m.group(1)}/export?' + (f'gid={m.group(3)}&' if m.group(3) else '') + 'format=xlsx'\n",
        "\n",
        "    # Replace using regex\n",
        "    new_url = re.sub(pattern, replacement, url)\n",
        "\n",
        "    return new_url\n",
        "\n"
      ]
    },
    {
      "cell_type": "markdown",
      "metadata": {
        "id": "KFomfUlJbxyj"
      },
      "source": [
        "### Exercise 1: Load and examine a superstore sales data from an Excel file"
      ]
    },
    {
      "cell_type": "code",
      "execution_count": null,
      "metadata": {
        "colab": {
          "base_uri": "https://localhost:8080/"
        },
        "id": "HfBm5Aohbxyk",
        "outputId": "02ab8de9-1400-4578-e7f4-763e2d533308"
      },
      "outputs": [],
      "source": [
        "df = pd.read_excel(convert_google_sheet_url(\"https://docs.google.com/spreadsheets/d/1_p_pS25SlGwDF3t9vd8PRXnF9LKEjN85/edit#gid=1719135658\"),sheet_name='Orders')"
      ]
    },
    {
      "cell_type": "code",
      "execution_count": null,
      "metadata": {
        "colab": {
          "base_uri": "https://localhost:8080/",
          "height": 618
        },
        "id": "cm_rUxJnbxyk",
        "outputId": "182fb6c6-1b8d-4694-9ee7-20442f81e2a4"
      },
      "outputs": [],
      "source": [
        "df.head(10)"
      ]
    },
    {
      "cell_type": "code",
      "execution_count": null,
      "metadata": {
        "id": "YhF_snbQbxyl"
      },
      "outputs": [],
      "source": [
        "df.drop('Row ID',axis=1,inplace=True)"
      ]
    },
    {
      "cell_type": "code",
      "execution_count": null,
      "metadata": {
        "colab": {
          "base_uri": "https://localhost:8080/"
        },
        "id": "HiIrvxcYbxyl",
        "outputId": "5373581f-79f5-49b8-8784-b69a25cf6c66"
      },
      "outputs": [],
      "source": [
        "df.shape"
      ]
    },
    {
      "cell_type": "markdown",
      "metadata": {
        "id": "Xy7i1x8Ebxym"
      },
      "source": [
        "### Exercise 2: Subsetting the DataFrame"
      ]
    },
    {
      "cell_type": "code",
      "execution_count": null,
      "metadata": {
        "colab": {
          "base_uri": "https://localhost:8080/",
          "height": 206
        },
        "id": "B0WFv9Dfbxym",
        "outputId": "8bf58637-c568-49d9-93d5-0f735e14da52"
      },
      "outputs": [],
      "source": [
        "df_subset = df.loc[[i for i in range(5,10)],['Customer ID','Customer Name','City','Postal Code','Sales']]\n",
        "df_subset"
      ]
    },
    {
      "cell_type": "markdown",
      "metadata": {
        "id": "0uJQTuyhbxym"
      },
      "source": [
        "### Exercise 3: An example use case – determining statistics on sales and profit for records 100-199"
      ]
    },
    {
      "cell_type": "code",
      "execution_count": null,
      "metadata": {
        "id": "htkJcKNxbxyn"
      },
      "outputs": [],
      "source": [
        "df_subset = df.loc[[i for i in range(100,200)],['Sales','Profit']]"
      ]
    },
    {
      "cell_type": "code",
      "execution_count": null,
      "metadata": {
        "colab": {
          "base_uri": "https://localhost:8080/",
          "height": 300
        },
        "id": "RaaCxvGebxyn",
        "outputId": "ea8d2651-637a-490e-ab29-cfddfe7ba9c7"
      },
      "outputs": [],
      "source": [
        "df_subset.describe()"
      ]
    },
    {
      "cell_type": "code",
      "execution_count": null,
      "metadata": {
        "colab": {
          "base_uri": "https://localhost:8080/",
          "height": 454
        },
        "id": "hHFG3C7nbxyn",
        "outputId": "b5d14beb-7bfb-4e4f-fded-69091b25cb77"
      },
      "outputs": [],
      "source": [
        "df_subset.plot.box()\n",
        "plt.title(\"Boxplot of sales and profit\",fontsize=15)\n",
        "plt.ylim(0,500)\n",
        "plt.grid(True)\n",
        "plt.show()"
      ]
    },
    {
      "cell_type": "markdown",
      "metadata": {
        "id": "Yiotv6VGbxyo"
      },
      "source": [
        "### Exercise 4: A useful function – unique"
      ]
    },
    {
      "cell_type": "code",
      "execution_count": null,
      "metadata": {
        "colab": {
          "base_uri": "https://localhost:8080/"
        },
        "id": "YMw4_xFybxyo",
        "outputId": "5d5fd46a-3d5d-4363-89cb-e8e61a9a1549"
      },
      "outputs": [],
      "source": [
        "df['State'].unique()"
      ]
    },
    {
      "cell_type": "code",
      "execution_count": null,
      "metadata": {
        "colab": {
          "base_uri": "https://localhost:8080/"
        },
        "id": "8uAISjsybxyo",
        "outputId": "efd3ae0c-a8f0-4ea2-936f-228e17c409a4"
      },
      "outputs": [],
      "source": [
        "df['State'].nunique()"
      ]
    },
    {
      "cell_type": "code",
      "execution_count": null,
      "metadata": {
        "colab": {
          "base_uri": "https://localhost:8080/"
        },
        "id": "08tfFokebxyp",
        "outputId": "07744bb9-fb93-43c7-ce5b-95d9f4850fb8"
      },
      "outputs": [],
      "source": [
        "df['Country'].unique()"
      ]
    },
    {
      "cell_type": "code",
      "execution_count": null,
      "metadata": {
        "id": "pTiMEugAbxyp"
      },
      "outputs": [],
      "source": [
        "df.drop('Country',axis=1,inplace=True)"
      ]
    },
    {
      "cell_type": "markdown",
      "metadata": {
        "id": "GW0fZBoJbxyp"
      },
      "source": [
        "### Exercise 5: Conditional Selection and Boolean Filtering"
      ]
    },
    {
      "cell_type": "code",
      "execution_count": null,
      "metadata": {
        "colab": {
          "base_uri": "https://localhost:8080/",
          "height": 363
        },
        "id": "CAItooNRbxyp",
        "outputId": "f894c1fc-ad33-4bae-b625-481ca6f28047"
      },
      "outputs": [],
      "source": [
        "df_subset = df.loc[[i for i in range (10)],['Ship Mode','State','Sales']]\n",
        "df_subset"
      ]
    },
    {
      "cell_type": "code",
      "execution_count": null,
      "metadata": {
        "colab": {
          "base_uri": "https://localhost:8080/",
          "height": 206
        },
        "id": "qVgmpAk3bxyp",
        "outputId": "0ebb816b-ba65-4bea-a98e-be6c42e02ac2"
      },
      "outputs": [],
      "source": [
        "df_subset[df_subset['Sales']>100]"
      ]
    },
    {
      "cell_type": "code",
      "execution_count": null,
      "metadata": {
        "colab": {
          "base_uri": "https://localhost:8080/",
          "height": 143
        },
        "id": "KVCGn2-Lbxyq",
        "outputId": "1081af68-3fc4-4443-ccc9-0fea8956c865"
      },
      "outputs": [],
      "source": [
        "df_subset[(df_subset['State']!='California') & (df_subset['Sales']>100)]"
      ]
    },
    {
      "cell_type": "markdown",
      "metadata": {
        "id": "jxQChGv_bxyq"
      },
      "source": [
        "### Exercise 6: Setting and re-setting index"
      ]
    },
    {
      "cell_type": "code",
      "execution_count": null,
      "metadata": {
        "colab": {
          "base_uri": "https://localhost:8080/"
        },
        "id": "CIiW87Znbxyq",
        "outputId": "d1474b8b-c4ff-496c-ec33-b3a4eee39f8a"
      },
      "outputs": [],
      "source": [
        "matrix_data = np.matrix('22,66,140;42,70,148;30,62,125;35,68,160;25,62,152')\n",
        "row_labels = ['A','B','C','D','E']\n",
        "column_headings = ['Age', 'Height', 'Weight']\n",
        "\n",
        "df1 = pd.DataFrame(data=matrix_data, index=row_labels, columns=column_headings)\n",
        "print(\"\\nThe DataFrame\\n\",'-'*25, sep='')\n",
        "print(df1)\n",
        "print(\"\\nAfter resetting index\\n\",'-'*35, sep='')\n",
        "print(df1.reset_index())\n",
        "print(\"\\nAfter resetting index with 'drop' option TRUE\\n\",'-'*45, sep='')\n",
        "print(df1.reset_index(drop=True))\n",
        "print(\"\\nAdding a new column 'Profession'\\n\",'-'*45, sep='')\n",
        "df1['Profession'] = \"Student Teacher Engineer Doctor Nurse\".split()\n",
        "print(df1)\n",
        "print(\"\\nSetting 'Profession' column as index\\n\",'-'*45, sep='')\n",
        "print (df1.set_index('Profession'))"
      ]
    },
    {
      "cell_type": "markdown",
      "metadata": {
        "id": "SinAg-oobxyq"
      },
      "source": [
        "### Exercise 7: GroupBy method"
      ]
    },
    {
      "cell_type": "code",
      "execution_count": null,
      "metadata": {
        "colab": {
          "base_uri": "https://localhost:8080/",
          "height": 363
        },
        "id": "3np__n7Xbxyq",
        "outputId": "531e62a5-bc43-46a7-f438-734c77dc0acd"
      },
      "outputs": [],
      "source": [
        "df_subset = df.loc[[i for i in range (10)],['Ship Mode','State','Sales']]\n",
        "df_subset"
      ]
    },
    {
      "cell_type": "code",
      "execution_count": null,
      "metadata": {
        "id": "VJBx0yWrbxyr"
      },
      "outputs": [],
      "source": [
        "byState = df_subset.groupby('State')"
      ]
    },
    {
      "cell_type": "code",
      "execution_count": null,
      "metadata": {
        "colab": {
          "base_uri": "https://localhost:8080/"
        },
        "id": "npSsxTYIbxyr",
        "outputId": "cadce6f1-eb38-45e5-e31d-55735644ce6a"
      },
      "outputs": [],
      "source": [
        "byState"
      ]
    },
    {
      "cell_type": "code",
      "execution_count": null,
      "metadata": {
        "colab": {
          "base_uri": "https://localhost:8080/"
        },
        "id": "J_OcnqKxbxyr",
        "outputId": "a234c7b2-0601-4768-f0b9-0350427e1347"
      },
      "outputs": [],
      "source": [
        "print(\"\\nGrouping by 'State' column and listing mean sales\\n\",'-'*50, sep='')\n",
        "print(byState.mean())"
      ]
    },
    {
      "cell_type": "code",
      "execution_count": null,
      "metadata": {
        "colab": {
          "base_uri": "https://localhost:8080/"
        },
        "id": "qsFlqAtnbxyr",
        "outputId": "4f3a3b5f-9297-467e-d770-5f6590bafc2d"
      },
      "outputs": [],
      "source": [
        "print(\"\\nGrouping by 'State' column and listing total sum of sales\\n\",'-'*50, sep='')\n",
        "print(byState.sum())"
      ]
    },
    {
      "cell_type": "code",
      "execution_count": null,
      "metadata": {
        "colab": {
          "base_uri": "https://localhost:8080/"
        },
        "id": "4omGcfOWbxyr",
        "outputId": "95cc66dd-5523-4da7-fcb9-366f87a2f9ea"
      },
      "outputs": [],
      "source": [
        "print(pd.DataFrame(df_subset.groupby('State').describe().loc['California']).transpose())"
      ]
    },
    {
      "cell_type": "code",
      "execution_count": null,
      "metadata": {
        "colab": {
          "base_uri": "https://localhost:8080/",
          "height": 175
        },
        "id": "31-Rkzk0bxyr",
        "outputId": "581eb8d6-61a6-44a5-98a3-56acf1b450f8"
      },
      "outputs": [],
      "source": [
        "df_subset.groupby('Ship Mode').describe().loc[['Second Class','Standard Class']]"
      ]
    },
    {
      "cell_type": "code",
      "execution_count": null,
      "metadata": {
        "colab": {
          "base_uri": "https://localhost:8080/",
          "height": 300
        },
        "id": "u7xukHH3bxyr",
        "outputId": "f3e1a3d4-60ac-4efd-c0c5-87e93e2469c2"
      },
      "outputs": [],
      "source": [
        "pd.DataFrame(byState.describe().loc['California'])"
      ]
    },
    {
      "cell_type": "code",
      "execution_count": null,
      "metadata": {
        "id": "cwk3o85Ybxys"
      },
      "outputs": [],
      "source": [
        "byStateCity=df.groupby(['State','City'])"
      ]
    },
    {
      "cell_type": "code",
      "execution_count": null,
      "metadata": {
        "colab": {
          "base_uri": "https://localhost:8080/",
          "height": 455
        },
        "id": "b3-tRiY4bxys",
        "outputId": "2f6ff3fc-6880-4443-888a-756e4a20dc24"
      },
      "outputs": [],
      "source": [
        "byStateCity.describe()['Sales']"
      ]
    },
    {
      "cell_type": "markdown",
      "metadata": {
        "id": "L3_QL5x2bxys"
      },
      "source": [
        "### Exercise 8: Missing values in Pandas"
      ]
    },
    {
      "cell_type": "code",
      "execution_count": null,
      "metadata": {
        "colab": {
          "base_uri": "https://localhost:8080/"
        },
        "id": "u7eJ-n4Qbxys",
        "outputId": "46e662e4-1dea-476b-c402-4bde6ae9644f"
      },
      "outputs": [],
      "source": [
        "df_missing=pd.read_excel(convert_google_sheet_url(\"https://docs.google.com/spreadsheets/d/1_p_pS25SlGwDF3t9vd8PRXnF9LKEjN85/edit#gid=18319337\"),sheet_name='Missing')"
      ]
    },
    {
      "cell_type": "code",
      "execution_count": null,
      "metadata": {
        "colab": {
          "base_uri": "https://localhost:8080/",
          "height": 394
        },
        "id": "YqpuxWEdbxys",
        "outputId": "ab0df2ba-40d4-40ac-802e-31ca71368981"
      },
      "outputs": [],
      "source": [
        "df_missing"
      ]
    },
    {
      "cell_type": "code",
      "execution_count": null,
      "metadata": {
        "colab": {
          "base_uri": "https://localhost:8080/",
          "height": 394
        },
        "id": "xfsnTD-dbxys",
        "outputId": "4ec45d65-a5b3-4a63-9814-702d7a0bb4fc"
      },
      "outputs": [],
      "source": [
        "df_missing.isnull()"
      ]
    },
    {
      "cell_type": "code",
      "execution_count": null,
      "metadata": {
        "colab": {
          "base_uri": "https://localhost:8080/"
        },
        "id": "e0_DfGDNbxys",
        "outputId": "49fe8f79-a60e-415a-91e2-3bc75612377f"
      },
      "outputs": [],
      "source": [
        "for c in df_missing.columns:\n",
        "    miss = df_missing[c].isnull().sum()\n",
        "    if miss>0:\n",
        "        print(\"{} has {} missing value(s)\".format(c,miss))\n",
        "    else:\n",
        "        print(\"{} has NO missing value!\".format(c))"
      ]
    },
    {
      "cell_type": "markdown",
      "metadata": {
        "id": "cph22ZXQbxy1"
      },
      "source": [
        "### Exercise 9: Filling missing values with `fillna()`"
      ]
    },
    {
      "cell_type": "code",
      "execution_count": null,
      "metadata": {
        "colab": {
          "base_uri": "https://localhost:8080/",
          "height": 394
        },
        "id": "xapwrf6Abxy1",
        "outputId": "a18b0973-e098-47d6-f061-9948bffb0d2a"
      },
      "outputs": [],
      "source": [
        "df_missing.fillna('FILL')"
      ]
    },
    {
      "cell_type": "code",
      "execution_count": null,
      "metadata": {
        "colab": {
          "base_uri": "https://localhost:8080/",
          "height": 394
        },
        "id": "uVwM9f70bxy1",
        "outputId": "c96f6b17-25b2-470c-bcee-5c4a50ae2bee"
      },
      "outputs": [],
      "source": [
        "df_missing[['Customer','Product']].fillna('FILL')"
      ]
    },
    {
      "cell_type": "code",
      "execution_count": null,
      "metadata": {
        "colab": {
          "base_uri": "https://localhost:8080/"
        },
        "id": "86rDAZpKbxy1",
        "outputId": "9448b113-acf9-4dd4-ca2d-6a7b6726d432"
      },
      "outputs": [],
      "source": [
        "df_missing['Sales'].fillna(method='ffill')"
      ]
    },
    {
      "cell_type": "code",
      "execution_count": null,
      "metadata": {
        "colab": {
          "base_uri": "https://localhost:8080/"
        },
        "id": "4OKevWyXbxy2",
        "outputId": "9476f7f4-6966-4666-87ce-467294182d86"
      },
      "outputs": [],
      "source": [
        "df_missing['Sales'].fillna(method='bfill')"
      ]
    },
    {
      "cell_type": "code",
      "execution_count": null,
      "metadata": {
        "colab": {
          "base_uri": "https://localhost:8080/"
        },
        "id": "cvJ6vutFbxy2",
        "outputId": "89ee5ac1-c073-45f3-8e92-482942ad9696"
      },
      "outputs": [],
      "source": [
        "df_missing['Sales'].fillna(df_missing.mean()['Sales'])"
      ]
    },
    {
      "cell_type": "markdown",
      "metadata": {
        "id": "Afr0Gy6Lbxy2"
      },
      "source": [
        "### Exercise 10: Dropping missing values with `dropna()`"
      ]
    },
    {
      "cell_type": "code",
      "execution_count": null,
      "metadata": {
        "colab": {
          "base_uri": "https://localhost:8080/",
          "height": 238
        },
        "id": "gPC36mrtbxy2",
        "outputId": "ad00a68d-2124-46e9-dbde-16b2ad1471d0"
      },
      "outputs": [],
      "source": [
        "df_missing.dropna(axis=0)"
      ]
    },
    {
      "cell_type": "code",
      "execution_count": null,
      "metadata": {
        "colab": {
          "base_uri": "https://localhost:8080/",
          "height": 394
        },
        "id": "xbaw73F_bxy2",
        "outputId": "1963efc7-c594-474f-afcd-20682344f7a6"
      },
      "outputs": [],
      "source": [
        "df_missing.dropna(axis=1)"
      ]
    },
    {
      "cell_type": "code",
      "execution_count": null,
      "metadata": {
        "colab": {
          "base_uri": "https://localhost:8080/",
          "height": 394
        },
        "id": "l3XHUVaPbxy2",
        "outputId": "ecc45c29-4b7e-45fe-9fea-a390e69413f0"
      },
      "outputs": [],
      "source": [
        "df_missing.dropna(axis=1,thresh=10)"
      ]
    },
    {
      "cell_type": "markdown",
      "metadata": {
        "id": "tDpi4hDjbxy2"
      },
      "source": [
        "### Exercise 11: Outlier detection using simple statistical test"
      ]
    },
    {
      "cell_type": "code",
      "execution_count": null,
      "metadata": {
        "id": "mWUvoCxCbxy3"
      },
      "outputs": [],
      "source": [
        "df_sample = df[['Customer Name','State','Sales','Profit']].sample(n=50).copy()"
      ]
    },
    {
      "cell_type": "code",
      "execution_count": null,
      "metadata": {
        "colab": {
          "base_uri": "https://localhost:8080/"
        },
        "id": "UOF3A-Jabxy3",
        "outputId": "2cc3088a-8c9e-4c4f-a02f-e52fa8bf26ee"
      },
      "outputs": [],
      "source": [
        "# Assign a wrong (negative value) in few places\n",
        "df_sample['Sales'].iloc[5]=-1000.0\n",
        "df_sample['Sales'].iloc[15]=-500.0"
      ]
    },
    {
      "cell_type": "code",
      "execution_count": null,
      "metadata": {
        "colab": {
          "base_uri": "https://localhost:8080/",
          "height": 460
        },
        "id": "Jz4KO03Cbxy3",
        "outputId": "2b1b1663-6125-4485-e90a-0f2edad50ac2"
      },
      "outputs": [],
      "source": [
        "df_sample.plot.box()\n",
        "plt.title(\"Boxplot of sales and profit\", fontsize=15)\n",
        "plt.xticks(fontsize=15)\n",
        "plt.yticks(fontsize=15)\n",
        "plt.grid(True)"
      ]
    },
    {
      "cell_type": "markdown",
      "metadata": {
        "id": "8lAPGZucbxy3"
      },
      "source": [
        "### Exercise 12: Concatenation"
      ]
    },
    {
      "cell_type": "code",
      "execution_count": null,
      "metadata": {
        "id": "3_U5T5Jubxy3"
      },
      "outputs": [],
      "source": [
        "df_1 = df[['Customer Name','State','Sales','Profit']].sample(n=4)\n",
        "df_2 = df[['Customer Name','State','Sales','Profit']].sample(n=4)\n",
        "df_3 = df[['Customer Name','State','Sales','Profit']].sample(n=4)"
      ]
    },
    {
      "cell_type": "code",
      "execution_count": null,
      "metadata": {
        "colab": {
          "base_uri": "https://localhost:8080/",
          "height": 175
        },
        "id": "k2Xm8gzmbxy3",
        "outputId": "b4424694-2150-4c1c-b1b3-2a60446f918a"
      },
      "outputs": [],
      "source": [
        "df_1"
      ]
    },
    {
      "cell_type": "code",
      "execution_count": null,
      "metadata": {
        "colab": {
          "base_uri": "https://localhost:8080/",
          "height": 175
        },
        "id": "rEgIvse4bxy3",
        "outputId": "26c9aba9-68c2-4ac7-9506-9e609704c276"
      },
      "outputs": [],
      "source": [
        "df_2"
      ]
    },
    {
      "cell_type": "code",
      "execution_count": null,
      "metadata": {
        "colab": {
          "base_uri": "https://localhost:8080/",
          "height": 175
        },
        "id": "U4Bs9qJ9bxy3",
        "outputId": "76767665-c915-4033-fff3-8768c5377895"
      },
      "outputs": [],
      "source": [
        "df_3"
      ]
    },
    {
      "cell_type": "code",
      "execution_count": null,
      "metadata": {
        "colab": {
          "base_uri": "https://localhost:8080/",
          "height": 426
        },
        "id": "r1Xs-MuAbxy4",
        "outputId": "a0f31996-be7e-4241-f0d1-3fc1b9da184c"
      },
      "outputs": [],
      "source": [
        "df_cat1 = pd.concat([df_1,df_2,df_3], axis=0)\n",
        "df_cat1"
      ]
    },
    {
      "cell_type": "code",
      "execution_count": null,
      "metadata": {
        "colab": {
          "base_uri": "https://localhost:8080/",
          "height": 426
        },
        "id": "N6N1GvHIbxy4",
        "outputId": "f2baec5c-319d-4a2f-923d-d849317c44ea"
      },
      "outputs": [],
      "source": [
        "df_cat2 = pd.concat([df_1,df_2,df_3], axis=1)\n",
        "df_cat2"
      ]
    },
    {
      "cell_type": "markdown",
      "metadata": {
        "id": "JuN0RWQkbxy4"
      },
      "source": [
        "### Exercise 13: Merging by a common key"
      ]
    },
    {
      "cell_type": "code",
      "execution_count": null,
      "metadata": {
        "colab": {
          "base_uri": "https://localhost:8080/",
          "height": 175
        },
        "id": "IpHDVdoibxy4",
        "outputId": "3a608f21-8e53-440a-f385-cff5f9f4ca82"
      },
      "outputs": [],
      "source": [
        "df_1=df[['Customer Name','Ship Date','Ship Mode']][0:4]\n",
        "df_1"
      ]
    },
    {
      "cell_type": "code",
      "execution_count": null,
      "metadata": {
        "colab": {
          "base_uri": "https://localhost:8080/",
          "height": 175
        },
        "id": "Nskmgb7Mbxy4",
        "outputId": "f712db52-345f-4426-fb00-caf85b4314d3"
      },
      "outputs": [],
      "source": [
        "df_2=df[['Customer Name','Product Name','Quantity']][0:4]\n",
        "df_2"
      ]
    },
    {
      "cell_type": "code",
      "execution_count": null,
      "metadata": {
        "colab": {
          "base_uri": "https://localhost:8080/",
          "height": 238
        },
        "id": "Us5iQnOabxy4",
        "outputId": "3587fa13-a2b9-47f9-b783-3863e9e314f3"
      },
      "outputs": [],
      "source": [
        "pd.merge(df_1,df_2,on='Customer Name',how='inner')"
      ]
    },
    {
      "cell_type": "code",
      "execution_count": null,
      "metadata": {
        "colab": {
          "base_uri": "https://localhost:8080/",
          "height": 175
        },
        "id": "gGkBaNmhbxy4",
        "outputId": "eb7dea83-ddf3-4325-dd2a-1f40805b365d"
      },
      "outputs": [],
      "source": [
        "pd.merge(df_1,df_2,on='Customer Name',how='inner').drop_duplicates()"
      ]
    },
    {
      "cell_type": "code",
      "execution_count": null,
      "metadata": {
        "colab": {
          "base_uri": "https://localhost:8080/",
          "height": 175
        },
        "id": "_PUf00VZbxy5",
        "outputId": "c1f4c041-5f11-4520-b522-c7b171210f25"
      },
      "outputs": [],
      "source": [
        "df_3=df[['Customer Name','Product Name','Quantity']][2:6]\n",
        "df_3"
      ]
    },
    {
      "cell_type": "code",
      "execution_count": null,
      "metadata": {
        "colab": {
          "base_uri": "https://localhost:8080/",
          "height": 143
        },
        "id": "yAoZqeAUbxy5",
        "outputId": "0acca57f-b5b8-4af2-8e7d-4a92ca055f27"
      },
      "outputs": [],
      "source": [
        "pd.merge(df_1,df_3,on='Customer Name',how='inner').drop_duplicates()"
      ]
    },
    {
      "cell_type": "code",
      "execution_count": null,
      "metadata": {
        "colab": {
          "base_uri": "https://localhost:8080/",
          "height": 206
        },
        "id": "gOENAx6-bxy5",
        "outputId": "195cd627-b7fd-4fdd-bc88-554fe21a1595"
      },
      "outputs": [],
      "source": [
        "pd.merge(df_1,df_3,on='Customer Name',how='outer').drop_duplicates()"
      ]
    },
    {
      "cell_type": "markdown",
      "metadata": {
        "id": "YQZOZjRrbxy5"
      },
      "source": [
        "### Exercise 14: Join method"
      ]
    },
    {
      "cell_type": "code",
      "execution_count": null,
      "metadata": {
        "colab": {
          "base_uri": "https://localhost:8080/",
          "height": 206
        },
        "id": "lBx3AWZWbxy5",
        "outputId": "aa170888-fe49-4261-953c-7e616f969d53"
      },
      "outputs": [],
      "source": [
        "df_1=df[['Customer Name','Ship Date','Ship Mode']][0:4]\n",
        "df_1.set_index(['Customer Name'],inplace=True)\n",
        "df_1"
      ]
    },
    {
      "cell_type": "code",
      "execution_count": null,
      "metadata": {
        "colab": {
          "base_uri": "https://localhost:8080/",
          "height": 206
        },
        "id": "UfrnhPntbxy5",
        "outputId": "df1075d5-4bb5-49e3-c52f-df652217733e"
      },
      "outputs": [],
      "source": [
        "df_2=df[['Customer Name','Product Name','Quantity']][2:6]\n",
        "df_2.set_index(['Customer Name'],inplace=True)\n",
        "df_2"
      ]
    },
    {
      "cell_type": "code",
      "execution_count": null,
      "metadata": {
        "colab": {
          "base_uri": "https://localhost:8080/",
          "height": 206
        },
        "id": "7aeHnuTYbxy5",
        "outputId": "8b4c8069-54fb-4e86-80de-7933f1459938"
      },
      "outputs": [],
      "source": [
        "df_1.join(df_2,how='left').drop_duplicates()"
      ]
    },
    {
      "cell_type": "code",
      "execution_count": null,
      "metadata": {
        "colab": {
          "base_uri": "https://localhost:8080/",
          "height": 206
        },
        "id": "2ca3JGrnbxy5",
        "outputId": "0f763fd5-f1f1-4cd4-858f-eb81281cbbd6"
      },
      "outputs": [],
      "source": [
        "df_1.join(df_2,how='right').drop_duplicates()"
      ]
    },
    {
      "cell_type": "code",
      "execution_count": null,
      "metadata": {
        "colab": {
          "base_uri": "https://localhost:8080/",
          "height": 175
        },
        "id": "nvAwnwIwbxy6",
        "outputId": "189279f2-58be-47f4-c6fa-3c578092b30e"
      },
      "outputs": [],
      "source": [
        "df_1.join(df_2,how='inner').drop_duplicates()"
      ]
    },
    {
      "cell_type": "code",
      "execution_count": null,
      "metadata": {
        "colab": {
          "base_uri": "https://localhost:8080/",
          "height": 238
        },
        "id": "EWK-nxmZbxy6",
        "outputId": "4bc14d08-2d7c-46ab-f077-aec0a641af49"
      },
      "outputs": [],
      "source": [
        "df_1.join(df_2,how='outer').drop_duplicates()"
      ]
    },
    {
      "cell_type": "markdown",
      "metadata": {
        "id": "MnsGHswMbxy6"
      },
      "source": [
        "## Miscelleneous useful methods"
      ]
    },
    {
      "cell_type": "markdown",
      "metadata": {
        "id": "PifI3ds7bxy6"
      },
      "source": [
        "### Exercise 15: Randomized sampling - `sample` method"
      ]
    },
    {
      "cell_type": "code",
      "execution_count": null,
      "metadata": {
        "colab": {
          "base_uri": "https://localhost:8080/",
          "height": 310
        },
        "id": "YlmGdPWlbxy6",
        "outputId": "06fcabe5-8d12-47c5-935b-6b7b40a3db19"
      },
      "outputs": [],
      "source": [
        "df.sample(n=5)"
      ]
    },
    {
      "cell_type": "code",
      "execution_count": null,
      "metadata": {
        "colab": {
          "base_uri": "https://localhost:8080/",
          "height": 571
        },
        "id": "1zbz2htmbxy6",
        "outputId": "e7c919d6-f66f-42d1-fdab-28f91aaa505a"
      },
      "outputs": [],
      "source": [
        "df.sample(frac=0.001)"
      ]
    },
    {
      "cell_type": "code",
      "execution_count": null,
      "metadata": {
        "colab": {
          "base_uri": "https://localhost:8080/",
          "height": 554
        },
        "id": "8a4UVOAVbxy6",
        "outputId": "a989e7d2-ddb9-4cef-c938-f5596c5ab917"
      },
      "outputs": [],
      "source": [
        "df.sample(frac=0.001,replace=True)"
      ]
    },
    {
      "cell_type": "markdown",
      "metadata": {
        "id": "-NZboBupbxy7"
      },
      "source": [
        "### Exercise 16: Pandas `value_count` method to return unique records"
      ]
    },
    {
      "cell_type": "code",
      "execution_count": null,
      "metadata": {
        "colab": {
          "base_uri": "https://localhost:8080/"
        },
        "id": "A0MhNxhrbxy7",
        "outputId": "b01cbd04-9cff-40de-8930-108ee79363ef"
      },
      "outputs": [],
      "source": [
        "df['Customer Name'].value_counts()[:10]"
      ]
    },
    {
      "cell_type": "markdown",
      "metadata": {
        "id": "h0xRY9_Hbxy7"
      },
      "source": [
        "### Exercise 17: Pivot table functionality - `pivot_table`"
      ]
    },
    {
      "cell_type": "code",
      "execution_count": null,
      "metadata": {
        "id": "Dy_pW9iHbxy7"
      },
      "outputs": [],
      "source": [
        "df_sample=df.sample(n=100)"
      ]
    },
    {
      "cell_type": "code",
      "execution_count": null,
      "metadata": {
        "colab": {
          "base_uri": "https://localhost:8080/",
          "height": 896
        },
        "id": "RhpceyY2bxy7",
        "outputId": "2facf7a8-798a-4a9b-aee1-b2965e664052"
      },
      "outputs": [],
      "source": [
        "df_sample.pivot_table(values=['Sales','Quantity','Profit'],index=['Region','State'],aggfunc='mean')"
      ]
    },
    {
      "cell_type": "markdown",
      "metadata": {
        "id": "9mYqanrvbxy7"
      },
      "source": [
        "### Exercise 18: Sorting by particular column"
      ]
    },
    {
      "cell_type": "code",
      "execution_count": null,
      "metadata": {
        "colab": {
          "base_uri": "https://localhost:8080/",
          "height": 520
        },
        "id": "eMbtG7vibxy7",
        "outputId": "4ff4118f-9a32-485c-f027-cf4338652c63"
      },
      "outputs": [],
      "source": [
        "df_sample=df[['Customer Name','State','Sales','Quantity']].sample(n=15)\n",
        "df_sample"
      ]
    },
    {
      "cell_type": "code",
      "execution_count": null,
      "metadata": {
        "colab": {
          "base_uri": "https://localhost:8080/",
          "height": 520
        },
        "id": "EAfWgmi0bxy7",
        "outputId": "95dc26ce-f30d-47fc-b266-85557b2ac177"
      },
      "outputs": [],
      "source": [
        "df_sample.sort_values(by='Sales')"
      ]
    },
    {
      "cell_type": "code",
      "execution_count": null,
      "metadata": {
        "colab": {
          "base_uri": "https://localhost:8080/",
          "height": 520
        },
        "id": "ZHZ6Js3wbxy8",
        "outputId": "9144d375-0371-4b3d-ac6a-f7b00356fae9"
      },
      "outputs": [],
      "source": [
        "df_sample.sort_values(by=['State','Sales'])"
      ]
    },
    {
      "cell_type": "markdown",
      "metadata": {
        "id": "dnD3vP-Lbxy8"
      },
      "source": [
        "### Exercise 19: Flexibility for user-defined function with `apply` method"
      ]
    },
    {
      "cell_type": "code",
      "execution_count": null,
      "metadata": {
        "id": "uC1jvwPqbxy8"
      },
      "outputs": [],
      "source": [
        "def categorize_sales(price):\n",
        "    if price < 50:\n",
        "        return \"Low\"\n",
        "    elif price < 200:\n",
        "        return \"Medium\"\n",
        "    else:\n",
        "        return \"High\""
      ]
    },
    {
      "cell_type": "code",
      "execution_count": null,
      "metadata": {
        "colab": {
          "base_uri": "https://localhost:8080/",
          "height": 363
        },
        "id": "miPcnmKKbxy8",
        "outputId": "2252648f-6a0f-4e92-8f81-d4d51fc26274"
      },
      "outputs": [],
      "source": [
        "df_sample=df[['Customer Name','State','Sales']].sample(n=100)\n",
        "df_sample.head(10)"
      ]
    },
    {
      "cell_type": "code",
      "execution_count": null,
      "metadata": {
        "colab": {
          "base_uri": "https://localhost:8080/",
          "height": 363
        },
        "id": "leXLU5f_bxy8",
        "outputId": "41fe97ac-791f-41eb-feef-3c71a7a9bb4d"
      },
      "outputs": [],
      "source": [
        "df_sample['Sales Price Category']=df_sample['Sales'].apply(categorize_sales)\n",
        "df_sample.head(10)"
      ]
    },
    {
      "cell_type": "code",
      "execution_count": null,
      "metadata": {
        "colab": {
          "base_uri": "https://localhost:8080/",
          "height": 363
        },
        "id": "6bObCci0bxy8",
        "outputId": "8eea14af-bd89-4483-c4fe-be2b7bdb4283"
      },
      "outputs": [],
      "source": [
        "df_sample['Customer Name Length']=df_sample['Customer Name'].apply(len)\n",
        "df_sample.head(10)"
      ]
    },
    {
      "cell_type": "code",
      "execution_count": null,
      "metadata": {
        "colab": {
          "base_uri": "https://localhost:8080/",
          "height": 363
        },
        "id": "orLdRdhjbxy8",
        "outputId": "16d2a115-6f3a-4141-8f84-a2c8b87debc6"
      },
      "outputs": [],
      "source": [
        "df_sample['Discounted Price']=df_sample['Sales'].apply(lambda x:0.85*x if x>200 else x)\n",
        "df_sample.head(10)"
      ]
    },
    {
      "cell_type": "code",
      "execution_count": null,
      "metadata": {
        "id": "l32kRuDAlIIH"
      },
      "outputs": [],
      "source": []
    }
  ],
  "metadata": {
    "colab": {
      "provenance": []
    },
    "kernelspec": {
      "display_name": "Python 3",
      "language": "python",
      "name": "python3"
    },
    "language_info": {
      "codemirror_mode": {
        "name": "ipython",
        "version": 3
      },
      "file_extension": ".py",
      "mimetype": "text/x-python",
      "name": "python",
      "nbconvert_exporter": "python",
      "pygments_lexer": "ipython3",
      "version": "3.11.6"
    },
    "latex_envs": {
      "LaTeX_envs_menu_present": true,
      "autoclose": false,
      "autocomplete": true,
      "bibliofile": "biblio.bib",
      "cite_by": "apalike",
      "current_citInitial": 1,
      "eqLabelWithNumbers": true,
      "eqNumInitial": 1,
      "hotkeys": {
        "equation": "Ctrl-E",
        "itemize": "Ctrl-I"
      },
      "labels_anchors": false,
      "latex_user_defs": false,
      "report_style_numbering": false,
      "user_envs_cfg": false
    }
  },
  "nbformat": 4,
  "nbformat_minor": 0
}
